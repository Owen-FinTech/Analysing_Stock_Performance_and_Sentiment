{
 "cells": [
  {
   "cell_type": "markdown",
   "id": "edacd2f6-9efe-49d4-8836-810bc28b7c4e",
   "metadata": {},
   "source": [
    "## Analysing Stock Performance and Social Media Sentiment (Tweets)\n",
    "----"
   ]
  },
  {
   "cell_type": "code",
   "execution_count": 2,
   "id": "c13b33f4-f07e-4a78-83fa-9b48f82b90b1",
   "metadata": {},
   "outputs": [],
   "source": [
    "import requests\n",
    "import pandas as pd\n",
    "import seaborn as sns\n",
    "%matplotlib inline\n",
    "import hvplot.pandas\n",
    "import matplotlib.pyplot as plt"
   ]
  },
  {
   "cell_type": "code",
   "execution_count": 6,
   "id": "35ca42c5-55bd-4919-a1a4-b6499c430a2b",
   "metadata": {},
   "outputs": [],
   "source": [
    "#Bulish trending \n",
    "#Pulling data from the finance-social-sentiment-for twitter (bullish)\n",
    "\n",
    "url = \"https://finance-social-sentiment-for-twitter-and-stocktwits.p.rapidapi.com/get-sentiment-trending/bullish\"\n",
    "\n",
    "querystring = {\"social\":\"twitter\",\"isCrypto\":\"false\",\"timestamp\":\"1m\",\"limit\":\"50\"}\n",
    "\n",
    "headers = {\n",
    "\t\"Content-Type\": \"application/json\",\n",
    "\t\"X-RapidAPI-Key\": \"9d73ead523msh1d09412a90b4e3fp1e2fc9jsn9bd41610d840\",\n",
    "\t\"X-RapidAPI-Host\": \"finance-social-sentiment-for-twitter-and-stocktwits.p.rapidapi.com\"\n",
    "}\n",
    "\n",
    "bullish_trending= requests.request(\"GET\", url, headers=headers, params=querystring)\n"
   ]
  },
  {
   "cell_type": "code",
   "execution_count": 7,
   "id": "8993725a-a2e6-41d0-9ef2-be3ad22aa96a",
   "metadata": {},
   "outputs": [],
   "source": [
    "# Creating the realative dataframe and using json \n",
    "bullish_trending_df = pd.DataFrame(bullish_trending.json())"
   ]
  },
  {
   "cell_type": "code",
   "execution_count": 5,
   "id": "efcabbd4-b173-4029-a3b5-b8ab4baa156c",
   "metadata": {},
   "outputs": [],
   "source": [
    "# Saving the bullish_trending_df as csv file \n",
    "bullish_trending_df.to_csv('bullish_trending_df.csv')"
   ]
  },
  {
   "cell_type": "code",
   "execution_count": null,
   "id": "d0a1ee65-a619-480a-bb0a-218342de1674",
   "metadata": {},
   "outputs": [],
   "source": []
  },
  {
   "cell_type": "code",
   "execution_count": 9,
   "id": "58e0c398-3427-4f2a-b784-39ff3dae8b4d",
   "metadata": {},
   "outputs": [],
   "source": [
    "# Bearish trending\n",
    "# Pulling the bearish trending sentiment for the top 50 tickers \n",
    "\n",
    "url = \"https://finance-social-sentiment-for-twitter-and-stocktwits.p.rapidapi.com/get-sentiment-trending/bearish\"\n",
    "\n",
    "querystring = {\"social\":\"twitter\",\"isCrypto\":\"false\",\"timestamp\":\"1m\",\"limit\":\"50\"}\n",
    "\n",
    "headers = {\n",
    "\t\"Content-Type\": \"application/json\",\n",
    "\t\"X-RapidAPI-Key\": \"9d73ead523msh1d09412a90b4e3fp1e2fc9jsn9bd41610d840\",\n",
    "\t\"X-RapidAPI-Host\": \"finance-social-sentiment-for-twitter-and-stocktwits.p.rapidapi.com\"\n",
    "}\n",
    "\n",
    "bearish_trending = requests.request(\"GET\", url, headers=headers, params=querystring)\n",
    "\n"
   ]
  },
  {
   "cell_type": "code",
   "execution_count": 10,
   "id": "e26d9ca6-ef10-430c-bdf6-80ed7dcdfbaf",
   "metadata": {},
   "outputs": [],
   "source": [
    "## Creating the realative dataframe and using json\n",
    "bearish_trending_df = pd.DataFrame(bearish_trending.json())"
   ]
  },
  {
   "cell_type": "code",
   "execution_count": 11,
   "id": "ae28752b-1a59-416f-adab-e424b934b26d",
   "metadata": {},
   "outputs": [],
   "source": [
    "# Saving the bearish_trending_df as csv file \n",
    "bearish_trending_df.to_csv('bearish_trending_df.csv')"
   ]
  },
  {
   "cell_type": "code",
   "execution_count": null,
   "id": "1ce29308-7934-49fe-a3ba-9b5f34032fb7",
   "metadata": {},
   "outputs": [],
   "source": []
  },
  {
   "cell_type": "code",
   "execution_count": null,
   "id": "f99eb6f6-eb71-421b-aedf-ac7cff0a16c0",
   "metadata": {},
   "outputs": [],
   "source": []
  },
  {
   "cell_type": "code",
   "execution_count": null,
   "id": "024567e1-0843-43be-ade5-b817e913d174",
   "metadata": {},
   "outputs": [],
   "source": []
  },
  {
   "cell_type": "code",
   "execution_count": null,
   "id": "1efb8ebc-bf87-4f43-8476-037bafb8c942",
   "metadata": {},
   "outputs": [],
   "source": []
  },
  {
   "cell_type": "code",
   "execution_count": null,
   "id": "47ed4ad3-4b8f-495b-b6b0-91f65d4195a9",
   "metadata": {},
   "outputs": [],
   "source": []
  }
 ],
 "metadata": {
  "kernelspec": {
   "display_name": "Python 3 (ipykernel)",
   "language": "python",
   "name": "python3"
  },
  "language_info": {
   "codemirror_mode": {
    "name": "ipython",
    "version": 3
   },
   "file_extension": ".py",
   "mimetype": "text/x-python",
   "name": "python",
   "nbconvert_exporter": "python",
   "pygments_lexer": "ipython3",
   "version": "3.9.12"
  }
 },
 "nbformat": 4,
 "nbformat_minor": 5
}
